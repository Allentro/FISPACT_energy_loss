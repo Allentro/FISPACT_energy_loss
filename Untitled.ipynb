{
 "cells": [
  {
   "cell_type": "code",
   "execution_count": 22,
   "id": "5477ccba-c381-4cb1-87ca-c092887f6486",
   "metadata": {},
   "outputs": [],
   "source": [
    "def calculate_density(reaction, density):\n",
    "    density_dict = {'H': 0.0708, 'He': 0.147, 'Li': 0.534, 'Be': 1.848, 'B': 2.34, 'C': 2.25, 'N': 0.808, 'O': 1.149, \n",
    "                'F': 1.108, 'Ne': 1.204, 'Na': 0.971, 'Mg': 1.738, 'Al': 2.6989, 'Si': 2.33, 'P': 1.82, 'S': 2.07, \n",
    "                'Cl': 1.56, 'Ar': 1.4, 'K': 0.856, 'Ca': 1.55, 'Sc': 2.99, 'Ti': 4.54, 'V': 6.11, 'Cr': 7.18, \n",
    "                'Mn': 7.21, 'Fe': 7.874, 'Co': 8.9, 'Ni': 8.902, 'Cu': 8.96, 'Zn': 7.133, 'Ga': 5.91, 'Ge': 5.323, \n",
    "                'As': 5.73, 'Se': 4.79, 'Br': 3.12, 'Kr': 2.155, 'Rb': 1.532, 'Sr': 2.54, 'Y': 4.47, 'Zr': 6.506, \n",
    "                'Nb': 8.57, 'Mo': 10.22, 'Tc': 11.5, 'Ru': 12.41, 'Rh': 12.41, 'Pd': 12.02, 'Ag': 10.5, 'Cd': 8.65, \n",
    "                'In': 7.31, 'Sn': 7.31, 'Sb': 6.691, 'Te': 6.24, 'I': 4.93, 'Xe': 3.52, 'Cs': 1.873, 'Ba': 3.5, \n",
    "                'La': 6.15, 'Ce': 6.757, 'Pr': 6.773, 'Nd': 7.007, 'Pm': 7.2, 'Sm': 7.52, 'Eu': 5.243, 'Gd': 7.9, \n",
    "                'Tb': 8.229, 'Dy': 8.55, 'Ho': 8.795, 'Er': 9.06, 'Tm': 9.321, 'Yb': 6.9654, 'Lu': 9.8404, 'Hf': 13.31, \n",
    "                'Ta': 16.654, 'W': 19.3, 'Re': 21.02, 'Os': 22.57, 'Ir': 22.42, 'Pt': 21.45, 'Au': 19.3, 'Hg': 13.546, \n",
    "                'Tl': 11.85, 'Pb': 11.35, 'Bi': 9.747, 'Po': 9.32, 'Rn': 4.4, 'Ra': 5.5, 'Th': 11.78, 'Pa': 15.37, \n",
    "                'U': 19.05}\n",
    "    if ':' in reaction: \n",
    "        raise ValueError('The density must be stated in g/cm3 for all compounds and molecules')\n",
    "    elif '(' in reaction: \n",
    "        return density_dict[reactin.split(')')[1].split('-')[0]]\n",
    "    else: \n",
    "        return density_dict[reaction.split('-')[0]]\n",
    "\n",
    "\n",
    "class Reaction:\n",
    "    def __init__(self, reaction, density=None):\n",
    "        self.reaction = reaction \n",
    "        self.density = density if density is not None else calculate_density(self.reaction, density)\n",
    "        \n",
    "    def projectile(self):\n",
    "        return self.reaction.split('-')[1]\n",
    "    \n",
    "    def target(self): \n",
    "        target = self.reaction.split('-')[0]\n",
    "        if ':' in target: \n",
    "            print('go')  \n",
    "        return self.reaction.split('-')[0]\n",
    "    \n",
    "class Irradiation: \n",
    "    def __init__(self, current): \n",
    "        self.current = current"
   ]
  },
  {
   "cell_type": "code",
   "execution_count": 23,
   "id": "e03194e4-47ac-4514-a0e4-83fce23a29ee",
   "metadata": {},
   "outputs": [
    {
     "name": "stdout",
     "output_type": "stream",
     "text": [
      "a\n",
      "Mo\n",
      "10.22\n"
     ]
    }
   ],
   "source": [
    "reaction = Reaction('Mo-a')\n",
    "print(reaction.projectile())\n",
    "print(reaction.target())\n",
    "print(reaction.density)"
   ]
  },
  {
   "cell_type": "code",
   "execution_count": 9,
   "id": "7d6cadcf-43ba-44d5-941c-63411d0c796d",
   "metadata": {},
   "outputs": [],
   "source": [
    "def calculate_size(colour):\n",
    "    if colour == 'blue': \n",
    "        size = 2 \n",
    "    else: \n",
    "        size = 4 \n",
    "    return size\n",
    "\n",
    "class Ball: \n",
    "    def __init__(self, colour, size=None): \n",
    "        self.colour = colour \n",
    "        self.size = size if size is not None else calculate_size(self.colour)"
   ]
  },
  {
   "cell_type": "code",
   "execution_count": 11,
   "id": "c4e2df04-4a1c-4f04-97f8-8b00d55cd11a",
   "metadata": {},
   "outputs": [
    {
     "name": "stdout",
     "output_type": "stream",
     "text": [
      "4\n"
     ]
    }
   ],
   "source": [
    "ball = Ball('Blue')\n",
    "print(ball.size)"
   ]
  },
  {
   "cell_type": "code",
   "execution_count": null,
   "id": "dfb84fd8-7297-4b84-93c4-39adc7268a9e",
   "metadata": {},
   "outputs": [],
   "source": [
    "def marbles(): \n",
    "\n",
    "    return marbles\n",
    "\n",
    "class MarbleBag: \n",
    "    def __init__(self, marbles):\n",
    "        self.bag = 'cloth' \n",
    "        self.marbles = marbles(marbles)"
   ]
  }
 ],
 "metadata": {
  "kernelspec": {
   "display_name": "Python 3 (ipykernel)",
   "language": "python",
   "name": "python3"
  },
  "language_info": {
   "codemirror_mode": {
    "name": "ipython",
    "version": 3
   },
   "file_extension": ".py",
   "mimetype": "text/x-python",
   "name": "python",
   "nbconvert_exporter": "python",
   "pygments_lexer": "ipython3",
   "version": "3.10.0"
  }
 },
 "nbformat": 4,
 "nbformat_minor": 5
}
